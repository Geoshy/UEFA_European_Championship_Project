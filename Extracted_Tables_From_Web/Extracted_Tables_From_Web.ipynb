{
 "cells": [
  {
   "cell_type": "markdown",
   "metadata": {},
   "source": [
    "# **Extracted Table From _Wikipedia_ (UEFA European Championship):**\n"
   ]
  },
  {
   "cell_type": "code",
   "execution_count": 3,
   "metadata": {},
   "outputs": [
    {
     "name": "stdout",
     "output_type": "stream",
     "text": [
      "The Number Of Tables = 27\n",
      "Saving Table_1\n",
      "Saving Table_2\n",
      "Saving Table_3\n",
      "Saving Table_4\n",
      "Saving Table_5\n",
      "Saving Table_6\n",
      "Saving Table_7\n",
      "Saving Table_8\n",
      "Saving Table_9\n",
      "Saving Table_10\n",
      "Saving Table_11\n",
      "Saving Table_12\n",
      "Saving Table_13\n",
      "Saving Table_14\n",
      "Saving Table_15\n",
      "Saving Table_16\n",
      "Saving Table_17\n",
      "Saving Table_18\n",
      "Saving Table_19\n",
      "Saving Table_20\n",
      "Saving Table_21\n",
      "Saving Table_22\n",
      "Saving Table_23\n",
      "Saving Table_24\n",
      "Saving Table_25\n",
      "Saving Table_26\n",
      "Saving Table_27\n"
     ]
    }
   ],
   "source": [
    "import pandas as pd\n",
    "\n",
    "url = \"https://en.wikipedia.org/wiki/UEFA_European_Championship\"\n",
    "\n",
    "tables = pd.read_html(url)\n",
    "\n",
    "print(f\"The Number Of Tables = {len(tables)}\")\n",
    "\n",
    "for index, table in enumerate(tables):\n",
    "    print(f\"Saving Table_{index + 1}\")\n",
    "    file_name = f\"table_{index + 1}.csv\"\n",
    "    table.to_csv(\n",
    "        file_name,\n",
    "        index=False,\n",
    "        header=True\n",
    "    )"
   ]
  }
 ],
 "metadata": {
  "kernelspec": {
   "display_name": "Python 3",
   "language": "python",
   "name": "python3"
  },
  "language_info": {
   "codemirror_mode": {
    "name": "ipython",
    "version": 3
   },
   "file_extension": ".py",
   "mimetype": "text/x-python",
   "name": "python",
   "nbconvert_exporter": "python",
   "pygments_lexer": "ipython3",
   "version": "3.12.4"
  }
 },
 "nbformat": 4,
 "nbformat_minor": 2
}
